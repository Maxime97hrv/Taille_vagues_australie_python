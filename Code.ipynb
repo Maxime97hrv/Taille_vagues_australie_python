{
 "cells": [
  {
   "cell_type": "markdown",
   "metadata": {
    "deletable": false,
    "editable": false,
    "nbgrader": {
     "cell_type": "markdown",
     "checksum": "de71d6097b4b022346e923fe8d983bf9",
     "grade": false,
     "grade_id": "cell-b6537d743cae0639",
     "locked": true,
     "schema_version": 3,
     "solution": false,
     "task": false
    }
   },
   "source": [
    "# Chargement des modules"
   ]
  },
  {
   "cell_type": "code",
   "execution_count": null,
   "metadata": {
    "deletable": false,
    "nbgrader": {
     "cell_type": "code",
     "checksum": "46420ae364f4aac7c213a3b8ff997e32",
     "grade": true,
     "grade_id": "cell-d9af6da0e0090c23",
     "locked": false,
     "points": 0,
     "schema_version": 3,
     "solution": true,
     "task": false
    }
   },
   "outputs": [],
   "source": [
    "import seaborn as sns\n",
    "import pandas as pd\n",
    "import numpy as np\n",
    "import datetime as dt\n",
    "import matplotlib.pyplot as plt"
   ]
  },
  {
   "cell_type": "markdown",
   "metadata": {
    "deletable": false,
    "editable": false,
    "nbgrader": {
     "cell_type": "markdown",
     "checksum": "b19ca406a7e5c3e39854d6917f78e6e8",
     "grade": false,
     "grade_id": "cell-293dffd64dc4773e",
     "locked": true,
     "schema_version": 3,
     "solution": false,
     "task": false
    }
   },
   "source": [
    "# Données"
   ]
  },
  {
   "cell_type": "markdown",
   "metadata": {
    "deletable": false,
    "editable": false,
    "nbgrader": {
     "cell_type": "markdown",
     "checksum": "61469f644032d5fc85cc51419ec18caf",
     "grade": false,
     "grade_id": "cell-f5f7f219f0b1385f",
     "locked": true,
     "schema_version": 3,
     "solution": false,
     "task": false
    }
   },
   "source": [
    "## Source des données"
   ]
  },
  {
   "cell_type": "markdown",
   "metadata": {
    "deletable": false,
    "nbgrader": {
     "cell_type": "markdown",
     "checksum": "eafdfa945e82706daa7390c1de0c1b49",
     "grade": true,
     "grade_id": "cell-f9cd03d115696e49",
     "locked": false,
     "points": 0,
     "schema_version": 3,
     "solution": true,
     "task": false
    }
   },
   "source": [
    "L'adresse internet à laquelle j'ai trouvé ma table de données est la suivante:\n",
    "https://www.kaggle.com/jolasa/waves-measuring-buoys-data-mooloolaba"
   ]
  },
  {
   "cell_type": "markdown",
   "metadata": {
    "deletable": false,
    "editable": false,
    "nbgrader": {
     "cell_type": "markdown",
     "checksum": "92c0f3f8033579609defafd20a41563a",
     "grade": false,
     "grade_id": "cell-20b1ba05d4e0985c",
     "locked": true,
     "schema_version": 3,
     "solution": false,
     "task": false
    }
   },
   "source": [
    "## Chargement des données"
   ]
  },
  {
   "cell_type": "code",
   "execution_count": null,
   "metadata": {
    "deletable": false,
    "nbgrader": {
     "cell_type": "code",
     "checksum": "320e1f297330c8748e3a1e284335c87f",
     "grade": true,
     "grade_id": "cell-4bb5e9dec0a81c5c",
     "locked": false,
     "points": 1,
     "schema_version": 3,
     "solution": true,
     "task": false
    },
    "scrolled": true
   },
   "outputs": [],
   "source": [
    "df=pd.read_csv('data/Coastal Data System - Waves (Mooloolaba) 01-2017 to 06 - 2019.csv')"
   ]
  },
  {
   "cell_type": "markdown",
   "metadata": {
    "deletable": false,
    "editable": false,
    "nbgrader": {
     "cell_type": "markdown",
     "checksum": "657a9c045be8b62791664c3ea49e55fe",
     "grade": false,
     "grade_id": "cell-56eccdc233654ccc",
     "locked": true,
     "schema_version": 3,
     "solution": false,
     "task": false
    }
   },
   "source": [
    "# Première analyse"
   ]
  },
  {
   "cell_type": "markdown",
   "metadata": {
    "deletable": false,
    "editable": false,
    "nbgrader": {
     "cell_type": "markdown",
     "checksum": "e9b6e90ba62991969d5f752f455d83b3",
     "grade": false,
     "grade_id": "cell-03323950abafff21",
     "locked": true,
     "schema_version": 3,
     "solution": false,
     "task": false
    }
   },
   "source": [
    "## Affichage de lignes du DataFrame"
   ]
  },
  {
   "cell_type": "code",
   "execution_count": null,
   "metadata": {
    "deletable": false,
    "nbgrader": {
     "cell_type": "code",
     "checksum": "b87d1a3bf4b5efb46f2cef81e9d0590d",
     "grade": true,
     "grade_id": "cell-640353783cdc4f9b",
     "locked": false,
     "points": 1,
     "schema_version": 3,
     "solution": true,
     "task": false
    }
   },
   "outputs": [
    {
     "data": {
      "text/html": [
       "<div>\n",
       "<style scoped>\n",
       "    .dataframe tbody tr th:only-of-type {\n",
       "        vertical-align: middle;\n",
       "    }\n",
       "\n",
       "    .dataframe tbody tr th {\n",
       "        vertical-align: top;\n",
       "    }\n",
       "\n",
       "    .dataframe thead th {\n",
       "        text-align: right;\n",
       "    }\n",
       "</style>\n",
       "<table border=\"1\" class=\"dataframe\">\n",
       "  <thead>\n",
       "    <tr style=\"text-align: right;\">\n",
       "      <th></th>\n",
       "      <th>Date/Time</th>\n",
       "      <th>Hs</th>\n",
       "      <th>Hmax</th>\n",
       "      <th>Tz</th>\n",
       "      <th>Tp</th>\n",
       "      <th>Peak Direction</th>\n",
       "      <th>SST</th>\n",
       "    </tr>\n",
       "  </thead>\n",
       "  <tbody>\n",
       "    <tr>\n",
       "      <th>0</th>\n",
       "      <td>01/01/2017 00:00</td>\n",
       "      <td>-99.900</td>\n",
       "      <td>-99.90</td>\n",
       "      <td>-99.900</td>\n",
       "      <td>-99.900</td>\n",
       "      <td>-99.9</td>\n",
       "      <td>-99.90</td>\n",
       "    </tr>\n",
       "    <tr>\n",
       "      <th>1</th>\n",
       "      <td>01/01/2017 00:30</td>\n",
       "      <td>0.875</td>\n",
       "      <td>1.39</td>\n",
       "      <td>4.421</td>\n",
       "      <td>4.506</td>\n",
       "      <td>-99.9</td>\n",
       "      <td>-99.90</td>\n",
       "    </tr>\n",
       "    <tr>\n",
       "      <th>2</th>\n",
       "      <td>01/01/2017 01:00</td>\n",
       "      <td>0.763</td>\n",
       "      <td>1.15</td>\n",
       "      <td>4.520</td>\n",
       "      <td>5.513</td>\n",
       "      <td>49.0</td>\n",
       "      <td>25.65</td>\n",
       "    </tr>\n",
       "    <tr>\n",
       "      <th>3</th>\n",
       "      <td>01/01/2017 01:30</td>\n",
       "      <td>0.770</td>\n",
       "      <td>1.41</td>\n",
       "      <td>4.582</td>\n",
       "      <td>5.647</td>\n",
       "      <td>75.0</td>\n",
       "      <td>25.50</td>\n",
       "    </tr>\n",
       "    <tr>\n",
       "      <th>4</th>\n",
       "      <td>01/01/2017 02:00</td>\n",
       "      <td>0.747</td>\n",
       "      <td>1.16</td>\n",
       "      <td>4.515</td>\n",
       "      <td>5.083</td>\n",
       "      <td>91.0</td>\n",
       "      <td>25.45</td>\n",
       "    </tr>\n",
       "  </tbody>\n",
       "</table>\n",
       "</div>"
      ],
      "text/plain": [
       "          Date/Time      Hs   Hmax      Tz      Tp  Peak Direction    SST\n",
       "0  01/01/2017 00:00 -99.900 -99.90 -99.900 -99.900           -99.9 -99.90\n",
       "1  01/01/2017 00:30   0.875   1.39   4.421   4.506           -99.9 -99.90\n",
       "2  01/01/2017 01:00   0.763   1.15   4.520   5.513            49.0  25.65\n",
       "3  01/01/2017 01:30   0.770   1.41   4.582   5.647            75.0  25.50\n",
       "4  01/01/2017 02:00   0.747   1.16   4.515   5.083            91.0  25.45"
      ]
     },
     "execution_count": 4,
     "metadata": {},
     "output_type": "execute_result"
    }
   ],
   "source": [
    "df.head()"
   ]
  },
  {
   "cell_type": "markdown",
   "metadata": {
    "deletable": false,
    "editable": false,
    "nbgrader": {
     "cell_type": "markdown",
     "checksum": "d81dcef2f859eb162e22e844544c8f2a",
     "grade": false,
     "grade_id": "cell-da7ed15f09fee12b",
     "locked": true,
     "schema_version": 3,
     "solution": false,
     "task": false
    }
   },
   "source": [
    "Les dernières lignes :"
   ]
  },
  {
   "cell_type": "code",
   "execution_count": null,
   "metadata": {
    "deletable": false,
    "nbgrader": {
     "cell_type": "code",
     "checksum": "84fd24471336b68ee16f55c204dfcfc2",
     "grade": true,
     "grade_id": "cell-5fc718e278c5c7d7",
     "locked": false,
     "points": 0,
     "schema_version": 3,
     "solution": true,
     "task": false
    }
   },
   "outputs": [
    {
     "data": {
      "text/html": [
       "<div>\n",
       "<style scoped>\n",
       "    .dataframe tbody tr th:only-of-type {\n",
       "        vertical-align: middle;\n",
       "    }\n",
       "\n",
       "    .dataframe tbody tr th {\n",
       "        vertical-align: top;\n",
       "    }\n",
       "\n",
       "    .dataframe thead th {\n",
       "        text-align: right;\n",
       "    }\n",
       "</style>\n",
       "<table border=\"1\" class=\"dataframe\">\n",
       "  <thead>\n",
       "    <tr style=\"text-align: right;\">\n",
       "      <th></th>\n",
       "      <th>Date/Time</th>\n",
       "      <th>Hs</th>\n",
       "      <th>Hmax</th>\n",
       "      <th>Tz</th>\n",
       "      <th>Tp</th>\n",
       "      <th>Peak Direction</th>\n",
       "      <th>SST</th>\n",
       "    </tr>\n",
       "  </thead>\n",
       "  <tbody>\n",
       "    <tr>\n",
       "      <th>43723</th>\n",
       "      <td>30/06/2019 21:30</td>\n",
       "      <td>2.299</td>\n",
       "      <td>3.60</td>\n",
       "      <td>9.281</td>\n",
       "      <td>12.765</td>\n",
       "      <td>94.0</td>\n",
       "      <td>21.95</td>\n",
       "    </tr>\n",
       "    <tr>\n",
       "      <th>43724</th>\n",
       "      <td>30/06/2019 22:00</td>\n",
       "      <td>2.075</td>\n",
       "      <td>3.04</td>\n",
       "      <td>9.303</td>\n",
       "      <td>12.722</td>\n",
       "      <td>95.0</td>\n",
       "      <td>21.95</td>\n",
       "    </tr>\n",
       "    <tr>\n",
       "      <th>43725</th>\n",
       "      <td>30/06/2019 22:30</td>\n",
       "      <td>2.157</td>\n",
       "      <td>3.43</td>\n",
       "      <td>9.168</td>\n",
       "      <td>12.890</td>\n",
       "      <td>97.0</td>\n",
       "      <td>21.95</td>\n",
       "    </tr>\n",
       "    <tr>\n",
       "      <th>43726</th>\n",
       "      <td>30/06/2019 23:00</td>\n",
       "      <td>2.087</td>\n",
       "      <td>2.84</td>\n",
       "      <td>8.706</td>\n",
       "      <td>10.963</td>\n",
       "      <td>92.0</td>\n",
       "      <td>21.95</td>\n",
       "    </tr>\n",
       "    <tr>\n",
       "      <th>43727</th>\n",
       "      <td>30/06/2019 23:30</td>\n",
       "      <td>1.926</td>\n",
       "      <td>2.98</td>\n",
       "      <td>8.509</td>\n",
       "      <td>12.228</td>\n",
       "      <td>84.0</td>\n",
       "      <td>21.95</td>\n",
       "    </tr>\n",
       "  </tbody>\n",
       "</table>\n",
       "</div>"
      ],
      "text/plain": [
       "              Date/Time     Hs  Hmax     Tz      Tp  Peak Direction    SST\n",
       "43723  30/06/2019 21:30  2.299  3.60  9.281  12.765            94.0  21.95\n",
       "43724  30/06/2019 22:00  2.075  3.04  9.303  12.722            95.0  21.95\n",
       "43725  30/06/2019 22:30  2.157  3.43  9.168  12.890            97.0  21.95\n",
       "43726  30/06/2019 23:00  2.087  2.84  8.706  10.963            92.0  21.95\n",
       "43727  30/06/2019 23:30  1.926  2.98  8.509  12.228            84.0  21.95"
      ]
     },
     "execution_count": 5,
     "metadata": {},
     "output_type": "execute_result"
    }
   ],
   "source": [
    "df.tail()"
   ]
  },
  {
   "cell_type": "markdown",
   "metadata": {
    "deletable": false,
    "editable": false,
    "nbgrader": {
     "cell_type": "markdown",
     "checksum": "b82b4eb5eedbc21c9e5f664653e3f696",
     "grade": false,
     "grade_id": "cell-bfd883e1e3560d8d",
     "locked": true,
     "schema_version": 3,
     "solution": false,
     "task": false
    }
   },
   "source": [
    "Ainsi que des lignes prises au hasard :"
   ]
  },
  {
   "cell_type": "code",
   "execution_count": null,
   "metadata": {
    "deletable": false,
    "nbgrader": {
     "cell_type": "code",
     "checksum": "7ba87f08796ad799ab08471446e7f2e0",
     "grade": true,
     "grade_id": "cell-4f041210bc4c8b9c",
     "locked": false,
     "points": 1,
     "schema_version": 3,
     "solution": true,
     "task": false
    },
    "scrolled": false
   },
   "outputs": [
    {
     "data": {
      "text/html": [
       "<div>\n",
       "<style scoped>\n",
       "    .dataframe tbody tr th:only-of-type {\n",
       "        vertical-align: middle;\n",
       "    }\n",
       "\n",
       "    .dataframe tbody tr th {\n",
       "        vertical-align: top;\n",
       "    }\n",
       "\n",
       "    .dataframe thead th {\n",
       "        text-align: right;\n",
       "    }\n",
       "</style>\n",
       "<table border=\"1\" class=\"dataframe\">\n",
       "  <thead>\n",
       "    <tr style=\"text-align: right;\">\n",
       "      <th></th>\n",
       "      <th>Date/Time</th>\n",
       "      <th>Hs</th>\n",
       "      <th>Hmax</th>\n",
       "      <th>Tz</th>\n",
       "      <th>Tp</th>\n",
       "      <th>Peak Direction</th>\n",
       "      <th>SST</th>\n",
       "    </tr>\n",
       "  </thead>\n",
       "  <tbody>\n",
       "    <tr>\n",
       "      <th>26441</th>\n",
       "      <td>07/05/2018 20:30</td>\n",
       "      <td>1.835</td>\n",
       "      <td>3.55</td>\n",
       "      <td>6.487</td>\n",
       "      <td>9.127</td>\n",
       "      <td>94.0</td>\n",
       "      <td>20.55</td>\n",
       "    </tr>\n",
       "    <tr>\n",
       "      <th>18025</th>\n",
       "      <td>01/11/2018 12:30</td>\n",
       "      <td>0.785</td>\n",
       "      <td>1.32</td>\n",
       "      <td>5.230</td>\n",
       "      <td>6.844</td>\n",
       "      <td>98.0</td>\n",
       "      <td>28.35</td>\n",
       "    </tr>\n",
       "    <tr>\n",
       "      <th>36565</th>\n",
       "      <td>01/02/2019 18:30</td>\n",
       "      <td>1.284</td>\n",
       "      <td>2.93</td>\n",
       "      <td>4.886</td>\n",
       "      <td>8.113</td>\n",
       "      <td>97.0</td>\n",
       "      <td>27.35</td>\n",
       "    </tr>\n",
       "    <tr>\n",
       "      <th>12149</th>\n",
       "      <td>09/11/2017 02:30</td>\n",
       "      <td>0.966</td>\n",
       "      <td>1.50</td>\n",
       "      <td>7.043</td>\n",
       "      <td>11.384</td>\n",
       "      <td>123.0</td>\n",
       "      <td>20.90</td>\n",
       "    </tr>\n",
       "    <tr>\n",
       "      <th>41166</th>\n",
       "      <td>08/05/2019 15:00</td>\n",
       "      <td>0.923</td>\n",
       "      <td>1.35</td>\n",
       "      <td>8.139</td>\n",
       "      <td>11.469</td>\n",
       "      <td>109.0</td>\n",
       "      <td>24.25</td>\n",
       "    </tr>\n",
       "  </tbody>\n",
       "</table>\n",
       "</div>"
      ],
      "text/plain": [
       "              Date/Time     Hs  Hmax     Tz      Tp  Peak Direction    SST\n",
       "26441  07/05/2018 20:30  1.835  3.55  6.487   9.127            94.0  20.55\n",
       "18025  01/11/2018 12:30  0.785  1.32  5.230   6.844            98.0  28.35\n",
       "36565  01/02/2019 18:30  1.284  2.93  4.886   8.113            97.0  27.35\n",
       "12149  09/11/2017 02:30  0.966  1.50  7.043  11.384           123.0  20.90\n",
       "41166  08/05/2019 15:00  0.923  1.35  8.139  11.469           109.0  24.25"
      ]
     },
     "execution_count": 6,
     "metadata": {},
     "output_type": "execute_result"
    }
   ],
   "source": [
    "df.sample(5)"
   ]
  },
  {
   "cell_type": "markdown",
   "metadata": {},
   "source": [
    "## Caractéristiques des colonnes"
   ]
  },
  {
   "cell_type": "code",
   "execution_count": null,
   "metadata": {
    "deletable": false,
    "nbgrader": {
     "cell_type": "code",
     "checksum": "14b6290a86651362b0d702b97b70b5d0",
     "grade": true,
     "grade_id": "cell-0976de22988c96cd",
     "locked": false,
     "points": 1,
     "schema_version": 3,
     "solution": true,
     "task": false
    },
    "scrolled": true
   },
   "outputs": [
    {
     "name": "stdout",
     "output_type": "stream",
     "text": [
      "<class 'pandas.core.frame.DataFrame'>\n",
      "RangeIndex: 43728 entries, 0 to 43727\n",
      "Data columns (total 7 columns):\n",
      " #   Column          Non-Null Count  Dtype  \n",
      "---  ------          --------------  -----  \n",
      " 0   Date/Time       43728 non-null  object \n",
      " 1   Hs              43728 non-null  float64\n",
      " 2   Hmax            43728 non-null  float64\n",
      " 3   Tz              43728 non-null  float64\n",
      " 4   Tp              43728 non-null  float64\n",
      " 5   Peak Direction  43728 non-null  float64\n",
      " 6   SST             43728 non-null  float64\n",
      "dtypes: float64(6), object(1)\n",
      "memory usage: 2.3+ MB\n"
     ]
    }
   ],
   "source": [
    "df.info()"
   ]
  },
  {
   "cell_type": "markdown",
   "metadata": {
    "deletable": false,
    "editable": false,
    "nbgrader": {
     "cell_type": "markdown",
     "checksum": "3cc9200cddda0a2c7a32fd0d76b9b1ea",
     "grade": false,
     "grade_id": "cell-69036a7dede1d075",
     "locked": true,
     "schema_version": 3,
     "solution": false,
     "task": false
    }
   },
   "source": [
    "# Nettoyage et traitement des données"
   ]
  },
  {
   "cell_type": "code",
   "execution_count": null,
   "metadata": {
    "deletable": false,
    "nbgrader": {
     "cell_type": "code",
     "checksum": "da634f7b7d3f547785d53ed39da76e29",
     "grade": true,
     "grade_id": "cell-72b934ee31505af3",
     "locked": false,
     "points": 1,
     "schema_version": 3,
     "solution": true,
     "task": false
    },
    "scrolled": true
   },
   "outputs": [],
   "source": [
    "def nettoyage(val):\n",
    "    if val<0:\n",
    "        return np.nan\n",
    "    else:\n",
    "        return val\n",
    "# Cela n'a aucun sens physique qu'il y ait des valeurs négatives pour toutes les colonnes du dataframe\n",
    "# y compris la température (SST) en Australie à Mooloolaba l'eau descend jamais en dessous de 12°C\n",
    "\n",
    "df[\"Hs\"]=df[\"Hs\"].apply(nettoyage)\n",
    "df[\"Hmax\"]=df[\"Hmax\"].apply(nettoyage)\n",
    "df[\"Tz\"]=df[\"Tz\"].apply(nettoyage)\n",
    "df[\"Tp\"]=df[\"Tp\"].apply(nettoyage)\n",
    "df[\"Peak Direction\"]=df[\"Peak Direction\"].apply(nettoyage)\n",
    "df[\"SST\"]=df[\"SST\"].apply(nettoyage)"
   ]
  },
  {
   "cell_type": "code",
   "execution_count": null,
   "metadata": {
    "deletable": false,
    "nbgrader": {
     "cell_type": "code",
     "checksum": "591ee4c3da9e29aa86b5ae3915cc4695",
     "grade": true,
     "grade_id": "cell-599a90bfd08dcc2b",
     "locked": false,
     "points": 1,
     "schema_version": 3,
     "solution": true,
     "task": false
    },
    "scrolled": true
   },
   "outputs": [
    {
     "data": {
      "text/html": [
       "<div>\n",
       "<style scoped>\n",
       "    .dataframe tbody tr th:only-of-type {\n",
       "        vertical-align: middle;\n",
       "    }\n",
       "\n",
       "    .dataframe tbody tr th {\n",
       "        vertical-align: top;\n",
       "    }\n",
       "\n",
       "    .dataframe thead th {\n",
       "        text-align: right;\n",
       "    }\n",
       "</style>\n",
       "<table border=\"1\" class=\"dataframe\">\n",
       "  <thead>\n",
       "    <tr style=\"text-align: right;\">\n",
       "      <th></th>\n",
       "      <th>Date/Time</th>\n",
       "      <th>Hs</th>\n",
       "      <th>Hmax</th>\n",
       "      <th>Tz</th>\n",
       "      <th>Tp</th>\n",
       "      <th>Peak Direction</th>\n",
       "      <th>SST</th>\n",
       "      <th>nom_mois</th>\n",
       "    </tr>\n",
       "  </thead>\n",
       "  <tbody>\n",
       "    <tr>\n",
       "      <th>43723</th>\n",
       "      <td>2019-06-30 21:30:00</td>\n",
       "      <td>2.299</td>\n",
       "      <td>3.60</td>\n",
       "      <td>9.281</td>\n",
       "      <td>12.765</td>\n",
       "      <td>94.0</td>\n",
       "      <td>21.95</td>\n",
       "      <td>Juin</td>\n",
       "    </tr>\n",
       "    <tr>\n",
       "      <th>43724</th>\n",
       "      <td>2019-06-30 22:00:00</td>\n",
       "      <td>2.075</td>\n",
       "      <td>3.04</td>\n",
       "      <td>9.303</td>\n",
       "      <td>12.722</td>\n",
       "      <td>95.0</td>\n",
       "      <td>21.95</td>\n",
       "      <td>Juin</td>\n",
       "    </tr>\n",
       "    <tr>\n",
       "      <th>43725</th>\n",
       "      <td>2019-06-30 22:30:00</td>\n",
       "      <td>2.157</td>\n",
       "      <td>3.43</td>\n",
       "      <td>9.168</td>\n",
       "      <td>12.890</td>\n",
       "      <td>97.0</td>\n",
       "      <td>21.95</td>\n",
       "      <td>Juin</td>\n",
       "    </tr>\n",
       "    <tr>\n",
       "      <th>43726</th>\n",
       "      <td>2019-06-30 23:00:00</td>\n",
       "      <td>2.087</td>\n",
       "      <td>2.84</td>\n",
       "      <td>8.706</td>\n",
       "      <td>10.963</td>\n",
       "      <td>92.0</td>\n",
       "      <td>21.95</td>\n",
       "      <td>Juin</td>\n",
       "    </tr>\n",
       "    <tr>\n",
       "      <th>43727</th>\n",
       "      <td>2019-06-30 23:30:00</td>\n",
       "      <td>1.926</td>\n",
       "      <td>2.98</td>\n",
       "      <td>8.509</td>\n",
       "      <td>12.228</td>\n",
       "      <td>84.0</td>\n",
       "      <td>21.95</td>\n",
       "      <td>Juin</td>\n",
       "    </tr>\n",
       "  </tbody>\n",
       "</table>\n",
       "</div>"
      ],
      "text/plain": [
       "                Date/Time     Hs  Hmax     Tz      Tp  Peak Direction    SST  \\\n",
       "43723 2019-06-30 21:30:00  2.299  3.60  9.281  12.765            94.0  21.95   \n",
       "43724 2019-06-30 22:00:00  2.075  3.04  9.303  12.722            95.0  21.95   \n",
       "43725 2019-06-30 22:30:00  2.157  3.43  9.168  12.890            97.0  21.95   \n",
       "43726 2019-06-30 23:00:00  2.087  2.84  8.706  10.963            92.0  21.95   \n",
       "43727 2019-06-30 23:30:00  1.926  2.98  8.509  12.228            84.0  21.95   \n",
       "\n",
       "      nom_mois  \n",
       "43723     Juin  \n",
       "43724     Juin  \n",
       "43725     Juin  \n",
       "43726     Juin  \n",
       "43727     Juin  "
      ]
     },
     "execution_count": 9,
     "metadata": {},
     "output_type": "execute_result"
    }
   ],
   "source": [
    "# # convertir Date/Time en objet temporelle datetime lisible par python\n",
    "\n",
    "for elem in ['Date/Time']:\n",
    "    df[elem] = pd.to_datetime(df[elem])\n",
    "df.set_index(\"Date/Time\")\n",
    "\n",
    "# mettre le nom des mois par mapping\n",
    "\n",
    "dict_month={1:\"Janvier\", 2:\"Février\", 3:\"Mars\", 4:\"Avril\", 5:\"Mai\", 6:\"Juin\", 7:\"Juillet\", 8:\"Août\", 9:\"Septembre\", \n",
    "            10:\"Octobre\", \n",
    "            11:\"Novembre\", 12:\"Decembre\"}\n",
    "\n",
    "df['nom_mois'] = df['Date/Time'].dt.month.map(dict_month)\n",
    "df.tail(5)"
   ]
  },
  {
   "cell_type": "code",
   "execution_count": 10,
   "metadata": {
    "scrolled": true
   },
   "outputs": [
    {
     "data": {
      "text/html": [
       "<div>\n",
       "<style scoped>\n",
       "    .dataframe tbody tr th:only-of-type {\n",
       "        vertical-align: middle;\n",
       "    }\n",
       "\n",
       "    .dataframe tbody tr th {\n",
       "        vertical-align: top;\n",
       "    }\n",
       "\n",
       "    .dataframe thead th {\n",
       "        text-align: right;\n",
       "    }\n",
       "</style>\n",
       "<table border=\"1\" class=\"dataframe\">\n",
       "  <thead>\n",
       "    <tr style=\"text-align: right;\">\n",
       "      <th></th>\n",
       "      <th>Date/Time</th>\n",
       "      <th>Hs</th>\n",
       "      <th>Hmax</th>\n",
       "      <th>Tz</th>\n",
       "      <th>Tp</th>\n",
       "      <th>Peak Direction</th>\n",
       "      <th>SST</th>\n",
       "      <th>nom_mois</th>\n",
       "      <th>Hmax_indic</th>\n",
       "    </tr>\n",
       "  </thead>\n",
       "  <tbody>\n",
       "    <tr>\n",
       "      <th>5068</th>\n",
       "      <td>2017-04-16 14:00:00</td>\n",
       "      <td>1.485</td>\n",
       "      <td>2.73</td>\n",
       "      <td>8.939</td>\n",
       "      <td>13.170</td>\n",
       "      <td>83.0</td>\n",
       "      <td>24.20</td>\n",
       "      <td>Avril</td>\n",
       "      <td>2-Moyenne</td>\n",
       "    </tr>\n",
       "    <tr>\n",
       "      <th>15493</th>\n",
       "      <td>2017-11-19 18:30:00</td>\n",
       "      <td>1.634</td>\n",
       "      <td>2.76</td>\n",
       "      <td>5.591</td>\n",
       "      <td>8.094</td>\n",
       "      <td>99.0</td>\n",
       "      <td>24.05</td>\n",
       "      <td>Novembre</td>\n",
       "      <td>2-Moyenne</td>\n",
       "    </tr>\n",
       "    <tr>\n",
       "      <th>11768</th>\n",
       "      <td>2017-09-03 04:00:00</td>\n",
       "      <td>0.697</td>\n",
       "      <td>1.11</td>\n",
       "      <td>6.417</td>\n",
       "      <td>11.444</td>\n",
       "      <td>115.0</td>\n",
       "      <td>21.45</td>\n",
       "      <td>Septembre</td>\n",
       "      <td>0-Très petite</td>\n",
       "    </tr>\n",
       "    <tr>\n",
       "      <th>1919</th>\n",
       "      <td>2017-02-09 23:30:00</td>\n",
       "      <td>1.829</td>\n",
       "      <td>2.97</td>\n",
       "      <td>6.889</td>\n",
       "      <td>9.503</td>\n",
       "      <td>83.0</td>\n",
       "      <td>27.20</td>\n",
       "      <td>Février</td>\n",
       "      <td>2-Moyenne</td>\n",
       "    </tr>\n",
       "    <tr>\n",
       "      <th>22526</th>\n",
       "      <td>2018-04-15 07:00:00</td>\n",
       "      <td>0.936</td>\n",
       "      <td>1.56</td>\n",
       "      <td>5.191</td>\n",
       "      <td>7.640</td>\n",
       "      <td>49.0</td>\n",
       "      <td>25.20</td>\n",
       "      <td>Avril</td>\n",
       "      <td>1-Petite</td>\n",
       "    </tr>\n",
       "  </tbody>\n",
       "</table>\n",
       "</div>"
      ],
      "text/plain": [
       "                Date/Time     Hs  Hmax     Tz      Tp  Peak Direction    SST  \\\n",
       "5068  2017-04-16 14:00:00  1.485  2.73  8.939  13.170            83.0  24.20   \n",
       "15493 2017-11-19 18:30:00  1.634  2.76  5.591   8.094            99.0  24.05   \n",
       "11768 2017-09-03 04:00:00  0.697  1.11  6.417  11.444           115.0  21.45   \n",
       "1919  2017-02-09 23:30:00  1.829  2.97  6.889   9.503            83.0  27.20   \n",
       "22526 2018-04-15 07:00:00  0.936  1.56  5.191   7.640            49.0  25.20   \n",
       "\n",
       "        nom_mois     Hmax_indic  \n",
       "5068       Avril      2-Moyenne  \n",
       "15493   Novembre      2-Moyenne  \n",
       "11768  Septembre  0-Très petite  \n",
       "1919     Février      2-Moyenne  \n",
       "22526      Avril       1-Petite  "
      ]
     },
     "execution_count": 10,
     "metadata": {},
     "output_type": "execute_result"
    }
   ],
   "source": [
    "#indication sur la hauteur maximale des vagues:\n",
    "\n",
    "def indic(val):\n",
    "    \n",
    "    if val<=1.5:\n",
    "         return \"0-Très petite\"\n",
    "        \n",
    "    elif 1.5<val<=2.5:\n",
    "        return \"1-Petite\"\n",
    "    \n",
    "    elif 2.5<val<=4:\n",
    "            return \"2-Moyenne\"\n",
    "        \n",
    "    elif 4<val<=6:\n",
    "            return \"3-Grosse\"\n",
    "    elif val>6:\n",
    "        return \"4-Très Grosse\"\n",
    "    else:\n",
    "        return None\n",
    "\n",
    "\n",
    "\n",
    "df[\"Hmax_indic\"]=df[\"Hmax\"].apply(indic)\n",
    "\n",
    "df.sample(5)"
   ]
  },
  {
   "cell_type": "code",
   "execution_count": 11,
   "metadata": {},
   "outputs": [
    {
     "data": {
      "text/html": [
       "<div>\n",
       "<style scoped>\n",
       "    .dataframe tbody tr th:only-of-type {\n",
       "        vertical-align: middle;\n",
       "    }\n",
       "\n",
       "    .dataframe tbody tr th {\n",
       "        vertical-align: top;\n",
       "    }\n",
       "\n",
       "    .dataframe thead th {\n",
       "        text-align: right;\n",
       "    }\n",
       "</style>\n",
       "<table border=\"1\" class=\"dataframe\">\n",
       "  <thead>\n",
       "    <tr style=\"text-align: right;\">\n",
       "      <th></th>\n",
       "      <th>Date/Time</th>\n",
       "      <th>Hs</th>\n",
       "      <th>Hmax</th>\n",
       "      <th>Tz</th>\n",
       "      <th>Tp</th>\n",
       "      <th>Peak Direction</th>\n",
       "      <th>SST</th>\n",
       "      <th>nom_mois</th>\n",
       "      <th>Hmax_indic</th>\n",
       "    </tr>\n",
       "  </thead>\n",
       "  <tbody>\n",
       "    <tr>\n",
       "      <th>35030</th>\n",
       "      <td>2018-12-31 19:00:00</td>\n",
       "      <td>1.482</td>\n",
       "      <td>2.67</td>\n",
       "      <td>6.152</td>\n",
       "      <td>9.050</td>\n",
       "      <td>71.0</td>\n",
       "      <td>25.70</td>\n",
       "      <td>Decembre</td>\n",
       "      <td>2-Moyenne</td>\n",
       "    </tr>\n",
       "    <tr>\n",
       "      <th>35031</th>\n",
       "      <td>2018-12-31 19:30:00</td>\n",
       "      <td>1.361</td>\n",
       "      <td>2.44</td>\n",
       "      <td>5.917</td>\n",
       "      <td>9.165</td>\n",
       "      <td>64.0</td>\n",
       "      <td>25.70</td>\n",
       "      <td>Decembre</td>\n",
       "      <td>1-Petite</td>\n",
       "    </tr>\n",
       "    <tr>\n",
       "      <th>35032</th>\n",
       "      <td>2018-12-31 20:00:00</td>\n",
       "      <td>1.493</td>\n",
       "      <td>2.28</td>\n",
       "      <td>5.972</td>\n",
       "      <td>8.254</td>\n",
       "      <td>61.0</td>\n",
       "      <td>25.70</td>\n",
       "      <td>Decembre</td>\n",
       "      <td>1-Petite</td>\n",
       "    </tr>\n",
       "    <tr>\n",
       "      <th>35033</th>\n",
       "      <td>2018-12-31 20:30:00</td>\n",
       "      <td>1.492</td>\n",
       "      <td>2.17</td>\n",
       "      <td>6.271</td>\n",
       "      <td>9.271</td>\n",
       "      <td>66.0</td>\n",
       "      <td>25.65</td>\n",
       "      <td>Decembre</td>\n",
       "      <td>1-Petite</td>\n",
       "    </tr>\n",
       "    <tr>\n",
       "      <th>35034</th>\n",
       "      <td>2018-12-31 21:00:00</td>\n",
       "      <td>1.544</td>\n",
       "      <td>2.49</td>\n",
       "      <td>6.024</td>\n",
       "      <td>8.892</td>\n",
       "      <td>67.0</td>\n",
       "      <td>25.65</td>\n",
       "      <td>Decembre</td>\n",
       "      <td>1-Petite</td>\n",
       "    </tr>\n",
       "    <tr>\n",
       "      <th>35035</th>\n",
       "      <td>2018-12-31 21:30:00</td>\n",
       "      <td>1.389</td>\n",
       "      <td>2.09</td>\n",
       "      <td>6.028</td>\n",
       "      <td>8.990</td>\n",
       "      <td>75.0</td>\n",
       "      <td>25.65</td>\n",
       "      <td>Decembre</td>\n",
       "      <td>1-Petite</td>\n",
       "    </tr>\n",
       "    <tr>\n",
       "      <th>35036</th>\n",
       "      <td>2018-12-31 22:00:00</td>\n",
       "      <td>1.460</td>\n",
       "      <td>2.55</td>\n",
       "      <td>5.913</td>\n",
       "      <td>8.573</td>\n",
       "      <td>68.0</td>\n",
       "      <td>25.65</td>\n",
       "      <td>Decembre</td>\n",
       "      <td>2-Moyenne</td>\n",
       "    </tr>\n",
       "    <tr>\n",
       "      <th>35037</th>\n",
       "      <td>2018-12-31 22:30:00</td>\n",
       "      <td>1.495</td>\n",
       "      <td>2.79</td>\n",
       "      <td>5.794</td>\n",
       "      <td>8.829</td>\n",
       "      <td>61.0</td>\n",
       "      <td>25.60</td>\n",
       "      <td>Decembre</td>\n",
       "      <td>2-Moyenne</td>\n",
       "    </tr>\n",
       "    <tr>\n",
       "      <th>35038</th>\n",
       "      <td>2018-12-31 23:00:00</td>\n",
       "      <td>1.379</td>\n",
       "      <td>2.26</td>\n",
       "      <td>5.901</td>\n",
       "      <td>8.643</td>\n",
       "      <td>70.0</td>\n",
       "      <td>25.60</td>\n",
       "      <td>Decembre</td>\n",
       "      <td>1-Petite</td>\n",
       "    </tr>\n",
       "    <tr>\n",
       "      <th>35039</th>\n",
       "      <td>2018-12-31 23:30:00</td>\n",
       "      <td>1.460</td>\n",
       "      <td>2.49</td>\n",
       "      <td>6.041</td>\n",
       "      <td>8.536</td>\n",
       "      <td>74.0</td>\n",
       "      <td>25.55</td>\n",
       "      <td>Decembre</td>\n",
       "      <td>1-Petite</td>\n",
       "    </tr>\n",
       "  </tbody>\n",
       "</table>\n",
       "</div>"
      ],
      "text/plain": [
       "                Date/Time     Hs  Hmax     Tz     Tp  Peak Direction    SST  \\\n",
       "35030 2018-12-31 19:00:00  1.482  2.67  6.152  9.050            71.0  25.70   \n",
       "35031 2018-12-31 19:30:00  1.361  2.44  5.917  9.165            64.0  25.70   \n",
       "35032 2018-12-31 20:00:00  1.493  2.28  5.972  8.254            61.0  25.70   \n",
       "35033 2018-12-31 20:30:00  1.492  2.17  6.271  9.271            66.0  25.65   \n",
       "35034 2018-12-31 21:00:00  1.544  2.49  6.024  8.892            67.0  25.65   \n",
       "35035 2018-12-31 21:30:00  1.389  2.09  6.028  8.990            75.0  25.65   \n",
       "35036 2018-12-31 22:00:00  1.460  2.55  5.913  8.573            68.0  25.65   \n",
       "35037 2018-12-31 22:30:00  1.495  2.79  5.794  8.829            61.0  25.60   \n",
       "35038 2018-12-31 23:00:00  1.379  2.26  5.901  8.643            70.0  25.60   \n",
       "35039 2018-12-31 23:30:00  1.460  2.49  6.041  8.536            74.0  25.55   \n",
       "\n",
       "       nom_mois Hmax_indic  \n",
       "35030  Decembre  2-Moyenne  \n",
       "35031  Decembre   1-Petite  \n",
       "35032  Decembre   1-Petite  \n",
       "35033  Decembre   1-Petite  \n",
       "35034  Decembre   1-Petite  \n",
       "35035  Decembre   1-Petite  \n",
       "35036  Decembre  2-Moyenne  \n",
       "35037  Decembre  2-Moyenne  \n",
       "35038  Decembre   1-Petite  \n",
       "35039  Decembre   1-Petite  "
      ]
     },
     "execution_count": 11,
     "metadata": {},
     "output_type": "execute_result"
    }
   ],
   "source": [
    "# On supprime les donnée de 2019 car elles sont incomplètes: elles ne s'arrêtent seulement en juin,\n",
    "# cela risque de fausser nos résultats\n",
    "\n",
    "df = df[df[\"Date/Time\"].dt.year != 2019]\n",
    "df.tail(10)"
   ]
  },
  {
   "cell_type": "markdown",
   "metadata": {
    "deletable": false,
    "editable": false,
    "nbgrader": {
     "cell_type": "markdown",
     "checksum": "eec8c8ee1a8129ae9492ac933b2dec80",
     "grade": false,
     "grade_id": "cell-06215fd0fe6e9f27",
     "locked": true,
     "schema_version": 3,
     "solution": false,
     "task": false
    }
   },
   "source": [
    "# Analyse approfondie"
   ]
  },
  {
   "cell_type": "markdown",
   "metadata": {
    "deletable": false,
    "editable": false,
    "nbgrader": {
     "cell_type": "markdown",
     "checksum": "534b0a3dc7035c380d1a75f010500287",
     "grade": false,
     "grade_id": "cell-9030533393835546",
     "locked": true,
     "schema_version": 3,
     "solution": false,
     "task": false
    }
   },
   "source": [
    "## Analyse des statistiques descriptives"
   ]
  },
  {
   "cell_type": "code",
   "execution_count": null,
   "metadata": {
    "deletable": false,
    "nbgrader": {
     "cell_type": "code",
     "checksum": "b9214f3f79973262b50599f77dd4192e",
     "grade": true,
     "grade_id": "cell-84b56a0ecdc99755",
     "locked": false,
     "points": 1,
     "schema_version": 3,
     "solution": true,
     "task": false
    }
   },
   "outputs": [
    {
     "data": {
      "text/html": [
       "<div>\n",
       "<style scoped>\n",
       "    .dataframe tbody tr th:only-of-type {\n",
       "        vertical-align: middle;\n",
       "    }\n",
       "\n",
       "    .dataframe tbody tr th {\n",
       "        vertical-align: top;\n",
       "    }\n",
       "\n",
       "    .dataframe thead th {\n",
       "        text-align: right;\n",
       "    }\n",
       "</style>\n",
       "<table border=\"1\" class=\"dataframe\">\n",
       "  <thead>\n",
       "    <tr style=\"text-align: right;\">\n",
       "      <th></th>\n",
       "      <th>Hs</th>\n",
       "      <th>Hmax</th>\n",
       "      <th>Tz</th>\n",
       "      <th>Tp</th>\n",
       "      <th>Peak Direction</th>\n",
       "      <th>SST</th>\n",
       "    </tr>\n",
       "  </thead>\n",
       "  <tbody>\n",
       "    <tr>\n",
       "      <th>count</th>\n",
       "      <td>34976.000000</td>\n",
       "      <td>34976.000000</td>\n",
       "      <td>34976.000000</td>\n",
       "      <td>34976.000000</td>\n",
       "      <td>34804.000000</td>\n",
       "      <td>34810.000000</td>\n",
       "    </tr>\n",
       "    <tr>\n",
       "      <th>mean</th>\n",
       "      <td>1.211069</td>\n",
       "      <td>2.046857</td>\n",
       "      <td>5.600160</td>\n",
       "      <td>9.026466</td>\n",
       "      <td>99.749799</td>\n",
       "      <td>23.706905</td>\n",
       "    </tr>\n",
       "    <tr>\n",
       "      <th>std</th>\n",
       "      <td>0.520279</td>\n",
       "      <td>0.885331</td>\n",
       "      <td>0.959724</td>\n",
       "      <td>2.484827</td>\n",
       "      <td>25.577303</td>\n",
       "      <td>2.229231</td>\n",
       "    </tr>\n",
       "    <tr>\n",
       "      <th>min</th>\n",
       "      <td>0.294000</td>\n",
       "      <td>0.510000</td>\n",
       "      <td>3.076000</td>\n",
       "      <td>2.720000</td>\n",
       "      <td>5.000000</td>\n",
       "      <td>19.800000</td>\n",
       "    </tr>\n",
       "    <tr>\n",
       "      <th>25%</th>\n",
       "      <td>0.821000</td>\n",
       "      <td>1.380000</td>\n",
       "      <td>4.934000</td>\n",
       "      <td>7.254000</td>\n",
       "      <td>87.000000</td>\n",
       "      <td>21.700000</td>\n",
       "    </tr>\n",
       "    <tr>\n",
       "      <th>50%</th>\n",
       "      <td>1.100000</td>\n",
       "      <td>1.850000</td>\n",
       "      <td>5.500000</td>\n",
       "      <td>8.899000</td>\n",
       "      <td>102.000000</td>\n",
       "      <td>23.650000</td>\n",
       "    </tr>\n",
       "    <tr>\n",
       "      <th>75%</th>\n",
       "      <td>1.500000</td>\n",
       "      <td>2.520000</td>\n",
       "      <td>6.154000</td>\n",
       "      <td>10.788000</td>\n",
       "      <td>118.000000</td>\n",
       "      <td>25.850000</td>\n",
       "    </tr>\n",
       "    <tr>\n",
       "      <th>max</th>\n",
       "      <td>4.257000</td>\n",
       "      <td>7.262000</td>\n",
       "      <td>10.921000</td>\n",
       "      <td>21.121000</td>\n",
       "      <td>358.000000</td>\n",
       "      <td>28.650000</td>\n",
       "    </tr>\n",
       "  </tbody>\n",
       "</table>\n",
       "</div>"
      ],
      "text/plain": [
       "                 Hs          Hmax            Tz            Tp  Peak Direction  \\\n",
       "count  34976.000000  34976.000000  34976.000000  34976.000000    34804.000000   \n",
       "mean       1.211069      2.046857      5.600160      9.026466       99.749799   \n",
       "std        0.520279      0.885331      0.959724      2.484827       25.577303   \n",
       "min        0.294000      0.510000      3.076000      2.720000        5.000000   \n",
       "25%        0.821000      1.380000      4.934000      7.254000       87.000000   \n",
       "50%        1.100000      1.850000      5.500000      8.899000      102.000000   \n",
       "75%        1.500000      2.520000      6.154000     10.788000      118.000000   \n",
       "max        4.257000      7.262000     10.921000     21.121000      358.000000   \n",
       "\n",
       "                SST  \n",
       "count  34810.000000  \n",
       "mean      23.706905  \n",
       "std        2.229231  \n",
       "min       19.800000  \n",
       "25%       21.700000  \n",
       "50%       23.650000  \n",
       "75%       25.850000  \n",
       "max       28.650000  "
      ]
     },
     "execution_count": 12,
     "metadata": {},
     "output_type": "execute_result"
    }
   ],
   "source": [
    "\n",
    "df.describe()"
   ]
  },
  {
   "cell_type": "markdown",
   "metadata": {
    "deletable": false,
    "nbgrader": {
     "cell_type": "markdown",
     "checksum": "9ddb1c450dbb2ef80c740de60ac9622f",
     "grade": true,
     "grade_id": "cell-0ee4775490e7f074",
     "locked": false,
     "points": 1,
     "schema_version": 3,
     "solution": true,
     "task": false
    }
   },
   "source": [
    "<br/><font color=green>-Hmax: record maximal des vagues sur la période\n",
    "<br/><font color=green>-Hs: Hauteur de vague significative (du tiers le plus élevé)\n",
    "<br/><font color=green>-Tz, Tp: période d'ondes ascendantes (Tz) et d'énergie de pointe (Tp)\n",
    "<br/><font color=green>-SST et Peak direction: Température ressentie à la surface de l'eau et direction des vagues\n",
    "    \n",
    "<br/><font color=green>On remarque qu'à Mooloolaba en Australie, la hauteur moyenne des vagues est de 1.21 mètres ce qui se rapproche de la médiane (1.10). L'écart est probablement due à la présence de valeur extrèmes (et rares): parfois les vagues atteignent 7.26 mètres lors des tempêtes et des fortes marées. Mais avec une températeur moyenne en surface de 23.7°C et une faible dispersion (std=2.23°C), l'eau est quasiment tout le temps bonne. "
   ]
  },
  {
   "cell_type": "markdown",
   "metadata": {
    "deletable": false,
    "editable": false,
    "nbgrader": {
     "cell_type": "markdown",
     "checksum": "d6720c3c2a0afbb49e09e892bbf9881b",
     "grade": false,
     "grade_id": "cell-4e0367f4c17037e1",
     "locked": true,
     "schema_version": 3,
     "solution": false,
     "task": false
    }
   },
   "source": [
    "## Croisement"
   ]
  },
  {
   "cell_type": "code",
   "execution_count": 13,
   "metadata": {},
   "outputs": [],
   "source": [
    "sns.set(rc={'figure.figsize': (12, 6)})"
   ]
  },
  {
   "cell_type": "code",
   "execution_count": null,
   "metadata": {
    "deletable": false,
    "nbgrader": {
     "cell_type": "code",
     "checksum": "a9d15524272d4e9597f4524854d217ad",
     "grade": true,
     "grade_id": "cell-2a3ea08ec8de9b50",
     "locked": false,
     "points": 1,
     "schema_version": 3,
     "solution": true,
     "task": false
    },
    "scrolled": false
   },
   "outputs": [
    {
     "name": "stderr",
     "output_type": "stream",
     "text": [
      "C:\\Users\\maxim\\anaconda3\\lib\\site-packages\\seaborn\\_decorators.py:36: FutureWarning: Pass the following variables as keyword args: x, y. From version 0.12, the only valid positional argument will be `data`, and passing other arguments without an explicit keyword will result in an error or misinterpretation.\n",
      "  warnings.warn(\n",
      "C:\\Users\\maxim\\anaconda3\\lib\\site-packages\\seaborn\\_decorators.py:36: FutureWarning: Pass the following variables as keyword args: x, y. From version 0.12, the only valid positional argument will be `data`, and passing other arguments without an explicit keyword will result in an error or misinterpretation.\n",
      "  warnings.warn(\n"
     ]
    },
    {
     "data": {
      "text/plain": [
       "Text(0.5, 1.0, 'Année 2018')"
      ]
     },
     "execution_count": 14,
     "metadata": {},
     "output_type": "execute_result"
    },
    {
     "data": {
      "image/png": "[encoded data removed]",
      "text/plain": [
       "<Figure size 936x720 with 2 Axes>"
      ]
     },
     "metadata": {},
     "output_type": "display_data"
    }
   ],
   "source": [
    "\n",
    "df1 = df[df[\"Date/Time\"].dt.year != 2018] # ne prend en compte que l'année 2017\n",
    "df2 = df[df[\"Date/Time\"].dt.year != 2017] # ne prend en compte que l'année 2018\n",
    "\n",
    "plt.figure(1,figsize=(13,10))\n",
    "plt.gcf().subplots_adjust( hspace = 0.35)\n",
    "\n",
    "plt.subplot(2,1,1)\n",
    "sns.barplot(\n",
    "    df1['nom_mois'], \n",
    "    df1['Hs'],\n",
    "    ci=50\n",
    ")\n",
    "plt.title('Année 2017')\n",
    "\n",
    "plt.subplot(2,1,2)\n",
    "sns.barplot(\n",
    "    df2['nom_mois'], \n",
    "    df2['Hs'],\n",
    "    ci=50\n",
    ")\n",
    "plt.title('Année 2018')"
   ]
  },
  {
   "cell_type": "code",
   "execution_count": null,
   "metadata": {
    "deletable": false,
    "nbgrader": {
     "cell_type": "code",
     "checksum": "18150b6811346e59fc3bfd36df6a5890",
     "grade": true,
     "grade_id": "cell-8e69586f7c9ca1af",
     "locked": false,
     "points": 1,
     "schema_version": 3,
     "solution": true,
     "task": false
    },
    "scrolled": true
   },
   "outputs": [
    {
     "data": {
      "text/html": [
       "<div>\n",
       "<style scoped>\n",
       "    .dataframe tbody tr th:only-of-type {\n",
       "        vertical-align: middle;\n",
       "    }\n",
       "\n",
       "    .dataframe tbody tr th {\n",
       "        vertical-align: top;\n",
       "    }\n",
       "\n",
       "    .dataframe thead th {\n",
       "        text-align: right;\n",
       "    }\n",
       "</style>\n",
       "<table border=\"1\" class=\"dataframe\">\n",
       "  <thead>\n",
       "    <tr style=\"text-align: right;\">\n",
       "      <th>nom_mois</th>\n",
       "      <th>Août</th>\n",
       "      <th>Avril</th>\n",
       "      <th>Decembre</th>\n",
       "      <th>Février</th>\n",
       "      <th>Janvier</th>\n",
       "      <th>Juillet</th>\n",
       "      <th>Juin</th>\n",
       "      <th>Mai</th>\n",
       "      <th>Mars</th>\n",
       "      <th>Novembre</th>\n",
       "      <th>Octobre</th>\n",
       "      <th>Septembre</th>\n",
       "    </tr>\n",
       "    <tr>\n",
       "      <th>Hmax_indic</th>\n",
       "      <th></th>\n",
       "      <th></th>\n",
       "      <th></th>\n",
       "      <th></th>\n",
       "      <th></th>\n",
       "      <th></th>\n",
       "      <th></th>\n",
       "      <th></th>\n",
       "      <th></th>\n",
       "      <th></th>\n",
       "      <th></th>\n",
       "      <th></th>\n",
       "    </tr>\n",
       "  </thead>\n",
       "  <tbody>\n",
       "    <tr>\n",
       "      <th>0-Très petite</th>\n",
       "      <td>1836</td>\n",
       "      <td>191</td>\n",
       "      <td>748</td>\n",
       "      <td>443</td>\n",
       "      <td>1194</td>\n",
       "      <td>1905</td>\n",
       "      <td>834</td>\n",
       "      <td>766</td>\n",
       "      <td>314</td>\n",
       "      <td>596</td>\n",
       "      <td>1000</td>\n",
       "      <td>1254</td>\n",
       "    </tr>\n",
       "    <tr>\n",
       "      <th>1-Petite</th>\n",
       "      <td>997</td>\n",
       "      <td>1238</td>\n",
       "      <td>1520</td>\n",
       "      <td>1161</td>\n",
       "      <td>1104</td>\n",
       "      <td>907</td>\n",
       "      <td>1306</td>\n",
       "      <td>1333</td>\n",
       "      <td>1288</td>\n",
       "      <td>1670</td>\n",
       "      <td>1098</td>\n",
       "      <td>1327</td>\n",
       "    </tr>\n",
       "    <tr>\n",
       "      <th>2-Moyenne</th>\n",
       "      <td>130</td>\n",
       "      <td>1215</td>\n",
       "      <td>686</td>\n",
       "      <td>951</td>\n",
       "      <td>618</td>\n",
       "      <td>159</td>\n",
       "      <td>683</td>\n",
       "      <td>825</td>\n",
       "      <td>1011</td>\n",
       "      <td>597</td>\n",
       "      <td>546</td>\n",
       "      <td>287</td>\n",
       "    </tr>\n",
       "    <tr>\n",
       "      <th>3-Grosse</th>\n",
       "      <td>7</td>\n",
       "      <td>230</td>\n",
       "      <td>17</td>\n",
       "      <td>129</td>\n",
       "      <td>56</td>\n",
       "      <td>2</td>\n",
       "      <td>56</td>\n",
       "      <td>48</td>\n",
       "      <td>355</td>\n",
       "      <td>4</td>\n",
       "      <td>302</td>\n",
       "      <td>7</td>\n",
       "    </tr>\n",
       "    <tr>\n",
       "      <th>4-Très Grosse</th>\n",
       "      <td>0</td>\n",
       "      <td>0</td>\n",
       "      <td>0</td>\n",
       "      <td>1</td>\n",
       "      <td>0</td>\n",
       "      <td>0</td>\n",
       "      <td>0</td>\n",
       "      <td>0</td>\n",
       "      <td>3</td>\n",
       "      <td>0</td>\n",
       "      <td>21</td>\n",
       "      <td>0</td>\n",
       "    </tr>\n",
       "  </tbody>\n",
       "</table>\n",
       "</div>"
      ],
      "text/plain": [
       "nom_mois       Août  Avril  Decembre  Février  Janvier  Juillet  Juin   Mai  \\\n",
       "Hmax_indic                                                                    \n",
       "0-Très petite  1836    191       748      443     1194     1905   834   766   \n",
       "1-Petite        997   1238      1520     1161     1104      907  1306  1333   \n",
       "2-Moyenne       130   1215       686      951      618      159   683   825   \n",
       "3-Grosse          7    230        17      129       56        2    56    48   \n",
       "4-Très Grosse     0      0         0        1        0        0     0     0   \n",
       "\n",
       "nom_mois       Mars  Novembre  Octobre  Septembre  \n",
       "Hmax_indic                                         \n",
       "0-Très petite   314       596     1000       1254  \n",
       "1-Petite       1288      1670     1098       1327  \n",
       "2-Moyenne      1011       597      546        287  \n",
       "3-Grosse        355         4      302          7  \n",
       "4-Très Grosse     3         0       21          0  "
      ]
     },
     "execution_count": 15,
     "metadata": {},
     "output_type": "execute_result"
    }
   ],
   "source": [
    "\n",
    "pd.crosstab(df['Hmax_indic'], df['nom_mois'])"
   ]
  },
  {
   "cell_type": "markdown",
   "metadata": {
    "deletable": false,
    "editable": false,
    "nbgrader": {
     "cell_type": "markdown",
     "checksum": "c86c992751c3dc52345697c77cd533c8",
     "grade": false,
     "grade_id": "cell-5a249d78406126a4",
     "locked": true,
     "schema_version": 3,
     "solution": false,
     "task": false
    }
   },
   "source": [
    "Affichage des correlations entre variables continues de votre table de données :"
   ]
  },
  {
   "cell_type": "code",
   "execution_count": null,
   "metadata": {
    "deletable": false,
    "nbgrader": {
     "cell_type": "code",
     "checksum": "04a592df02fc59a608581e362c03f86c",
     "grade": true,
     "grade_id": "cell-b7311105b168c1a5",
     "locked": false,
     "points": 1,
     "schema_version": 3,
     "solution": true,
     "task": false
    }
   },
   "outputs": [
    {
     "data": {
      "text/plain": [
       "<AxesSubplot:>"
      ]
     },
     "execution_count": 16,
     "metadata": {},
     "output_type": "execute_result"
    },
    {
     "data": {
      "image/png": "[encoded data removed]",
      "text/plain": [
       "<Figure size 864x432 with 2 Axes>"
      ]
     },
     "metadata": {},
     "output_type": "display_data"
    }
   ],
   "source": [
    "sns.heatmap(100*df.corr(), annot = True, cmap= sns.cm.vlag, fmt='.1f')"
   ]
  },
  {
   "cell_type": "markdown",
   "metadata": {
    "deletable": false,
    "editable": false,
    "nbgrader": {
     "cell_type": "markdown",
     "checksum": "502d05460a364a8ecd35355af3282577",
     "grade": false,
     "grade_id": "cell-9e1fda9e494c988a",
     "locked": true,
     "schema_version": 3,
     "solution": false,
     "task": false
    }
   },
   "source": [
    "Commentaire des résultats (croisements et corrélations) :"
   ]
  },
  {
   "cell_type": "markdown",
   "metadata": {
    "deletable": false,
    "nbgrader": {
     "cell_type": "markdown",
     "checksum": "3daa6d941374ad9cf5d1552eaf5bad56",
     "grade": true,
     "grade_id": "cell-4c7fb99864121213",
     "locked": false,
     "points": 1,
     "schema_version": 3,
     "solution": true,
     "task": false
    }
   },
   "source": [
    "Ecrivez votre réponse ci-dessous\n",
    "<br/><font color=blue> La taille des vagues varie selon les mois de l'année. C'est en Mars/Avril que les vagues sont en moyenne les plus grosses (=1.6 mètres). Parfait pour les amateurs. \n",
    "    \n",
    "<br/><font color=blue> Mais c'est en Octobre que les vagues atteignent des tailles monstrueuses (> 6mètres). C'est à ce mois qu'elles sont intéressantes pour les professionnels et férus de sensations fortes.\n",
    "\n",
    "<br/><font color=blue> Il y a une forte corrélation entre la hauteur record et la hauteur significative (97.3%), ce qui semble logique car d'après notre courbe de régression ci-dessous, la hauteur maximale augmente avec la hauteur significative."
   ]
  },
  {
   "cell_type": "markdown",
   "metadata": {
    "deletable": false,
    "editable": false,
    "nbgrader": {
     "cell_type": "markdown",
     "checksum": "fff6c52760787870af96b2cf1c581a1b",
     "grade": false,
     "grade_id": "cell-58df14dc9efbf1be",
     "locked": true,
     "schema_version": 3,
     "solution": false,
     "task": false
    }
   },
   "source": [
    "## Graphiques"
   ]
  },
  {
   "cell_type": "code",
   "execution_count": null,
   "metadata": {
    "deletable": false,
    "nbgrader": {
     "cell_type": "code",
     "checksum": "8dac60aa97be14e3a7d03ddf62c40695",
     "grade": true,
     "grade_id": "cell-6b354ac6bccda4ad",
     "locked": false,
     "points": 1,
     "schema_version": 3,
     "solution": true,
     "task": false
    }
   },
   "outputs": [
    {
     "name": "stderr",
     "output_type": "stream",
     "text": [
      "C:\\Users\\maxim\\anaconda3\\lib\\site-packages\\seaborn\\_decorators.py:36: FutureWarning: Pass the following variables as keyword args: x, y. From version 0.12, the only valid positional argument will be `data`, and passing other arguments without an explicit keyword will result in an error or misinterpretation.\n",
      "  warnings.warn(\n"
     ]
    },
    {
     "data": {
      "text/plain": [
       "<AxesSubplot:xlabel='Hs', ylabel='Hmax'>"
      ]
     },
     "execution_count": 17,
     "metadata": {},
     "output_type": "execute_result"
    },
    {
     "data": {
      "image/png": "[encoded data removed]",
      "text/plain": [
       "<Figure size 864x432 with 1 Axes>"
      ]
     },
     "metadata": {},
     "output_type": "display_data"
    }
   ],
   "source": [
    "\n",
    "sns.regplot(df['Hs'], df['Hmax'],marker='.',color=\"b\",line_kws={\"color\": \"green\"})  "
   ]
  },
  {
   "cell_type": "code",
   "execution_count": null,
   "metadata": {
    "deletable": false,
    "nbgrader": {
     "cell_type": "code",
     "checksum": "018a40bca2571846211b37a0a9ad91e0",
     "grade": true,
     "grade_id": "cell-0ed0e5cc54e509de",
     "locked": false,
     "points": 1,
     "schema_version": 3,
     "solution": true,
     "task": false
    }
   },
   "outputs": [
    {
     "data": {
      "text/plain": [
       "[<matplotlib.lines.Line2D at 0x175f587daf0>]"
      ]
     },
     "execution_count": 18,
     "metadata": {},
     "output_type": "execute_result"
    },
    {
     "data": {
      "image/png": "[encoded data removed]",
      "text/plain": [
       "<Figure size 864x432 with 1 Axes>"
      ]
     },
     "metadata": {},
     "output_type": "display_data"
    }
   ],
   "source": [
    "\n",
    "plt.plot(df[\"Date/Time\"],df[\"SST\"])"
   ]
  },
  {
   "cell_type": "markdown",
   "metadata": {
    "deletable": false,
    "editable": false,
    "nbgrader": {
     "cell_type": "markdown",
     "checksum": "a7e6bb018665fd0c62d2af731c4ede40",
     "grade": false,
     "grade_id": "cell-413029558a8c4f33",
     "locked": true,
     "schema_version": 3,
     "solution": false,
     "task": false
    }
   },
   "source": [
    "Analysez le croisement de 2 colonnes au sein de votre table en utilisant un graphique :"
   ]
  },
  {
   "cell_type": "code",
   "execution_count": null,
   "metadata": {
    "deletable": false,
    "nbgrader": {
     "cell_type": "code",
     "checksum": "16c23676ccf84a645d9187cf34e08b5a",
     "grade": true,
     "grade_id": "cell-d8b44982398c0943",
     "locked": false,
     "points": 1,
     "schema_version": 3,
     "solution": true,
     "task": false
    }
   },
   "outputs": [
    {
     "data": {
      "text/plain": [
       "<seaborn.axisgrid.JointGrid at 0x175f58e2be0>"
      ]
     },
     "execution_count": 19,
     "metadata": {},
     "output_type": "execute_result"
    },
    {
     "data": {
      "image/png": "[encoded data removed]",
      "text/plain": [
       "<Figure size 432x432 with 3 Axes>"
      ]
     },
     "metadata": {},
     "output_type": "display_data"
    }
   ],
   "source": [
    "\n",
    "sns.jointplot(\n",
    "    x=df['Hmax'], \n",
    "    y=df['Tz'], \n",
    "    kind=\"kde\"\n",
    ")"
   ]
  },
  {
   "cell_type": "markdown",
   "metadata": {
    "deletable": false,
    "editable": false,
    "nbgrader": {
     "cell_type": "markdown",
     "checksum": "b56e0ff0c597d34c70ea5d40ed8498f5",
     "grade": false,
     "grade_id": "cell-054c6c2e0e746fc7",
     "locked": true,
     "schema_version": 3,
     "solution": false,
     "task": false
    }
   },
   "source": [
    "Commentaire des 3 graphiques"
   ]
  },
  {
   "cell_type": "markdown",
   "metadata": {
    "deletable": false,
    "nbgrader": {
     "cell_type": "markdown",
     "checksum": "d58ed065a9b6d72d70728125d7f89403",
     "grade": true,
     "grade_id": "cell-31388092d53359ea",
     "locked": false,
     "points": 1,
     "schema_version": 3,
     "solution": true,
     "task": false
    }
   },
   "source": [
    "<br/><font color=blue>Nous remarquons un pique de température vers Mars/début Avril. Les conditions sont pareto-optimales à cette période: Température de l'eau agréable et vagues au rendez-vous.\n",
    "    \n",
    "<br/><font color=blue>D'après le dernier graphique: plus les vagues sont hautes, plus la borne inférieure de leur période est élevée, ce qui est bon signe: on a plus de chance d'avoir le temps de remonter à la surface avant qu'une autre déferle sur nous. "
   ]
  },
  {
   "cell_type": "markdown",
   "metadata": {},
   "source": [
    "---"
   ]
  }
 ],
 "metadata": {
  "kernelspec": {
   "display_name": "Python 3",
   "language": "python",
   "name": "python3"
  },
  "language_info": {
   "codemirror_mode": {
    "name": "ipython",
    "version": 3
   },
   "file_extension": ".py",
   "mimetype": "text/x-python",
   "name": "python",
   "nbconvert_exporter": "python",
   "pygments_lexer": "ipython3",
   "version": "3.8.3"
  }
 },
 "nbformat": 4,
 "nbformat_minor": 4
}
